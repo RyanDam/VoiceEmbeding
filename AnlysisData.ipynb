{
 "cells": [
  {
   "cell_type": "code",
   "execution_count": 1,
   "metadata": {},
   "outputs": [
    {
     "name": "stderr",
     "output_type": "stream",
     "text": [
      "/home/zdeploy/.virtualenvs/dl-py3/lib/python3.5/importlib/_bootstrap.py:222: RuntimeWarning: numpy.dtype size changed, may indicate binary incompatibility. Expected 96, got 88\n",
      "  return f(*args, **kwds)\n",
      "/home/zdeploy/.virtualenvs/dl-py3/lib/python3.5/importlib/_bootstrap.py:222: RuntimeWarning: numpy.dtype size changed, may indicate binary incompatibility. Expected 96, got 88\n",
      "  return f(*args, **kwds)\n",
      "/home/zdeploy/.virtualenvs/dl-py3/lib/python3.5/importlib/_bootstrap.py:222: RuntimeWarning: numpy.dtype size changed, may indicate binary incompatibility. Expected 96, got 88\n",
      "  return f(*args, **kwds)\n",
      "/home/zdeploy/.virtualenvs/dl-py3/lib/python3.5/importlib/_bootstrap.py:222: RuntimeWarning: numpy.dtype size changed, may indicate binary incompatibility. Expected 96, got 88\n",
      "  return f(*args, **kwds)\n",
      "/home/zdeploy/.virtualenvs/dl-py3/lib/python3.5/importlib/_bootstrap.py:222: RuntimeWarning: numpy.dtype size changed, may indicate binary incompatibility. Expected 96, got 88\n",
      "  return f(*args, **kwds)\n"
     ]
    }
   ],
   "source": [
    "import os\n",
    "# disable running on GPU\n",
    "os.environ[\"CUDA_DEVICE_ORDER\"] = \"PCI_BUS_ID\"\n",
    "os.environ[\"CUDA_VISIBLE_DEVICES\"] = \"\"\n",
    "\n",
    "import numpy as np\n",
    "\n",
    "import h5py\n",
    "import pandas as pd\n",
    "import datetime\n",
    "\n",
    "import matplotlib.pyplot as plt\n",
    "\n",
    "from random import shuffle\n",
    "import random\n",
    "import pickle\n",
    "import seaborn as sn\n",
    "import pandas as pd\n",
    "import numpy as np\n",
    "from sklearn.metrics import confusion_matrix\n",
    "import h5py\n",
    "from IPython.display import clear_output\n",
    "from glob import glob\n",
    "from tqdm import tqdm\n",
    "import librosa\n",
    "import json\n",
    "import shutil\n",
    "from multiprocessing import Pool\n",
    "\n",
    "from utils.datautils import *"
   ]
  },
  {
   "cell_type": "code",
   "execution_count": 2,
   "metadata": {},
   "outputs": [],
   "source": [
    "base_path = '/home/zdeploy/AILab/duydv2/VoiceEmbeding'\n",
    "baseset_path = '/data1/ZAVoiceChallenge/checked-zalo-user'"
   ]
  },
  {
   "cell_type": "code",
   "execution_count": 3,
   "metadata": {},
   "outputs": [],
   "source": [
    "def get_all_fol(p):\n",
    "    for a,b,c in os.walk(p):\n",
    "        return b\n",
    "def get_all_fname(p):\n",
    "    for a,b,c in os.walk(p):\n",
    "        return c\n",
    "\n",
    "all_data = glob(os.path.join(baseset_path, '**/*.amr'), recursive=True)"
   ]
  },
  {
   "cell_type": "code",
   "execution_count": 4,
   "metadata": {},
   "outputs": [],
   "source": [
    "magic = len(all_data[0].split('/'))\n",
    "miss = []\n",
    "for p in all_data:\n",
    "    if len(p.split('/')) != magic:\n",
    "        miss.append(p)"
   ]
  },
  {
   "cell_type": "code",
   "execution_count": 5,
   "metadata": {},
   "outputs": [],
   "source": [
    "user_dic = {}\n",
    "for p in all_data:\n",
    "    pp = p.split('/')\n",
    "    uid = pp[-2]\n",
    "    if uid in user_dic:\n",
    "        user_dic[uid].append(p)\n",
    "    else:\n",
    "        user_dic[uid] = [p]"
   ]
  },
  {
   "cell_type": "code",
   "execution_count": 6,
   "metadata": {},
   "outputs": [
    {
     "name": "stdout",
     "output_type": "stream",
     "text": [
      "user sum: 5081\n"
     ]
    },
    {
     "data": {
      "image/png": "[encoded data removed]",
      "text/plain": [
       "<matplotlib.figure.Figure at 0x7f1cf70faac8>"
      ]
     },
     "metadata": {},
     "output_type": "display_data"
    },
    {
     "name": "stdout",
     "output_type": "stream",
     "text": [
      "[352, 16, 1, 4, 67, 19, 7, 9, 3, 2, 2, 26, 2, 3, 1, 1, 1, 1, 1, 1, 1, 2, 24, 3, 4, 537, 10, 2, 3, 2, 2, 2, 6, 508, 1, 3, 3, 9, 22, 3, 1, 106, 1, 55, 7, 1, 1, 2, 2, 3, 1, 12, 4, 3, 53, 107, 1, 1, 1, 84, 44, 1, 3, 1, 9, 17, 2, 52, 1, 118, 4, 60, 2, 9, 54, 9, 1, 1, 1, 3, 1, 1, 7, 31, 2, 1, 1, 9, 1, 1, 1, 12, 1, 4, 4, 40, 31, 5, 4, 32, 7, 1, 1, 31, 1, 6, 8, 1, 20, 3, 18, 8, 5, 299, 5, 4, 16, 12, 1, 2, 66, 3, 2, 1, 1, 22, 2, 1, 56, 94, 5, 79, 24, 1, 3, 3, 227, 174, 81, 1, 3, 3, 2, 39, 30, 266, 1, 2, 9, 673, 21, 3, 3, 3, 3, 32]\n",
      "((156,), 'min:', 1, 'max:', 673, 'std:', 91.64144959761603, 'mean:', 32.57051282051282, 'median:', 3.0)\n"
     ]
    }
   ],
   "source": [
    "xs, ys = convert_dict_to_pair(user_dic)\n",
    "_ = statistic_data(xs, ys, title='user')"
   ]
  },
  {
   "cell_type": "code",
   "execution_count": 7,
   "metadata": {},
   "outputs": [],
   "source": [
    "# statistic_lenght = {}\n",
    "# for x in tqdm(xs):\n",
    "#     d = librosa.get_duration(filename=x)\n",
    "#     statistic_lenght[x] = d\n",
    "# with open('duration_dict.json', 'w') as f:\n",
    "#     json.dump(statistic_lenght, f)\n",
    "with open('duration_dict.json', 'r') as f:\n",
    "    statistic_lenght = json.load(f)"
   ]
  },
  {
   "cell_type": "code",
   "execution_count": 8,
   "metadata": {},
   "outputs": [],
   "source": [
    "min_thres = 32\n",
    "max_thres = 36\n",
    "\n",
    "cutted_dict = {}\n",
    "for p in user_dic:\n",
    "    l = len(user_dic[p])\n",
    "    if l > min_thres:\n",
    "        if l > max_thres:\n",
    "            arr = user_dic[p]\n",
    "            shuffle(arr)\n",
    "            cutted_dict[p] = arr[:max_thres]\n",
    "        else:\n",
    "            cutted_dict[p] = user_dic[p]"
   ]
  },
  {
   "cell_type": "code",
   "execution_count": 9,
   "metadata": {},
   "outputs": [
    {
     "name": "stdout",
     "output_type": "stream",
     "text": [
      "user sum: 936\n"
     ]
    },
    {
     "data": {
      "image/png": "[encoded data removed]",
      "text/plain": [
       "<matplotlib.figure.Figure at 0x7f1cf4ed0a20>"
      ]
     },
     "metadata": {},
     "output_type": "display_data"
    },
    {
     "name": "stdout",
     "output_type": "stream",
     "text": [
      "[36, 36, 36, 36, 36, 36, 36, 36, 36, 36, 36, 36, 36, 36, 36, 36, 36, 36, 36, 36, 36, 36, 36, 36, 36, 36]\n",
      "((26,), 'min:', 36, 'max:', 36, 'std:', 0.0, 'mean:', 36.0, 'median:', 36.0)\n"
     ]
    }
   ],
   "source": [
    "xs, ys = convert_dict_to_pair(cutted_dict)\n",
    "_ = statistic_data(xs, ys, title='user')"
   ]
  },
  {
   "cell_type": "code",
   "execution_count": 10,
   "metadata": {},
   "outputs": [],
   "source": [
    "lenght_dict = {}\n",
    "for k in cutted_dict:\n",
    "    arr = cutted_dict[k]\n",
    "    res = [statistic_lenght[p] for p in arr]\n",
    "    lenght_dict[k] = res"
   ]
  },
  {
   "cell_type": "code",
   "execution_count": 11,
   "metadata": {},
   "outputs": [
    {
     "data": {
      "image/png": "[encoded data removed]",
      "text/plain": [
       "<matplotlib.figure.Figure at 0x7f1cf4f35588>"
      ]
     },
     "metadata": {},
     "output_type": "display_data"
    },
    {
     "name": "stdout",
     "output_type": "stream",
     "text": [
      "((26,), 'min:', 152.0, 'max:', 291.70000000000005, 'std:', 32.525939580004916, 'mean:', 217.43076923076927, 'median:', 215.55)\n"
     ]
    }
   ],
   "source": [
    "keys = list(lenght_dict.keys())\n",
    "durs = [np.sum(lenght_dict[k]) for k in keys]\n",
    "\n",
    "plt.bar(keys, durs)\n",
    "plt.show()\n",
    "\n",
    "stat(durs)"
   ]
  },
  {
   "cell_type": "code",
   "execution_count": 17,
   "metadata": {},
   "outputs": [
    {
     "data": {
      "text/plain": [
       "5653.200000000001"
      ]
     },
     "execution_count": 17,
     "metadata": {},
     "output_type": "execute_result"
    }
   ],
   "source": [
    "np.sum(durs)"
   ]
  },
  {
   "cell_type": "code",
   "execution_count": 13,
   "metadata": {},
   "outputs": [
    {
     "name": "stderr",
     "output_type": "stream",
     "text": [
      "100%|██████████| 936/936 [00:00<00:00, 3202.94it/s]\n"
     ]
    }
   ],
   "source": [
    "target_path = '/data1/ZAVoiceChallenge/duydv2/user_embeding'\n",
    "for p, y in tqdm(zip(xs, ys), total=len(xs)):\n",
    "    fname = p.split('/')[-1].split('.')[0]\n",
    "    dst = os.path.join(target_path, '{}_{}.amr'.format(ys.index(y), fname))\n",
    "    shutil.copyfile(p, dst)"
   ]
  },
  {
   "cell_type": "code",
   "execution_count": 14,
   "metadata": {},
   "outputs": [],
   "source": [
    "all_data_moved = glob(os.path.join(target_path, '*.amr'))"
   ]
  },
  {
   "cell_type": "code",
   "execution_count": 19,
   "metadata": {},
   "outputs": [],
   "source": [
    "save_path = '/data1/ZAVoiceChallenge/duydv2/user_embed/user_embeding_cut_3s'\n",
    "\n",
    "def augmentation(y, sr):\n",
    "#     res = []\n",
    "#     for pitch_lv in [-2, 0, 2]:\n",
    "#         for stretch_lv in [0.8, 1.0, 1.2]:\n",
    "#             y_p = librosa.effects.pitch_shift(y, sr, n_steps=pitch_lv)\n",
    "#             y_p_k = librosa.effects.time_stretch(y, stretch_lv)\n",
    "#             res.append(y_p_k)\n",
    "#     return res\n",
    "    return [y]\n",
    "\n",
    "def load_wave_and_cut(p):\n",
    "    try:\n",
    "        p\n",
    "        pp = p.split('/')\n",
    "        fname = pp[-1]\n",
    "        \n",
    "        y_o, sr = librosa.load(p)\n",
    "        \n",
    "        y_augs = augmentation(y_o, sr)\n",
    "        for i_aug in range(len(y_augs)):\n",
    "            y = y_augs[i_aug]\n",
    "\n",
    "            cut_duration = 3.0\n",
    "            wave_lenght = int(cut_duration*sr)\n",
    "\n",
    "            if wave_lenght > y.shape[0]:\n",
    "                numm = int(wave_lenght/y.shape[0])+1\n",
    "                y = np.tile(y, numm)\n",
    "                wave_cut_time = 1\n",
    "                wave_gap = 0\n",
    "            else:\n",
    "                wave_cut_time = int(y.shape[0] / wave_lenght)\n",
    "                wave_gap = int((y.shape[0] - wave_lenght*wave_cut_time)/2)\n",
    "\n",
    "            yy = y[wave_gap:wave_gap+wave_lenght*wave_cut_time]\n",
    "            yyy = yy.reshape(wave_cut_time, wave_lenght)\n",
    "            for i in range(wave_cut_time):\n",
    "                logmel = librosa.power_to_db(librosa.feature.melspectrogram(y=yyy[i,:], sr=sr), ref=np.max)\n",
    "                logmel = logmel[:80,:]\n",
    "                dst = os.path.join(save_path, '{}_{}_{}.npy'.format(fname.split('.')[0], i, i_aug))\n",
    "                np.save(dst, logmel)\n",
    "    except Exception as e:\n",
    "        print(e)\n",
    "        print(item)\n",
    "        \n",
    "def load_wave(p):\n",
    "    try:\n",
    "        pp = p.split('/')\n",
    "        fname = pp[-1]\n",
    "        \n",
    "        y, sr = librosa.load(p)\n",
    "        logmel = librosa.power_to_db(librosa.feature.melspectrogram(y=y, sr=sr), ref=np.max)\n",
    "        logmel = logmel[:80,:]\n",
    "        dst = os.path.join('/data1/ZAVoiceChallenge/duydv2/user_embed/user_embeding_spec', '{}.npy'.format(fname.split('.')[0]))\n",
    "        np.save(dst, logmel)\n",
    "    except Exception as e:\n",
    "        print(e)"
   ]
  },
  {
   "cell_type": "code",
   "execution_count": 16,
   "metadata": {},
   "outputs": [
    {
     "name": "stderr",
     "output_type": "stream",
     "text": [
      "100%|██████████| 936/936 [00:34<00:00, 26.89it/s]\n"
     ]
    }
   ],
   "source": [
    "with Pool(20) as p:\n",
    "    for _ in tqdm(p.imap_unordered(load_wave_and_cut, all_data_moved), total=len(all_data_moved)): pass"
   ]
  },
  {
   "cell_type": "code",
   "execution_count": 20,
   "metadata": {},
   "outputs": [
    {
     "name": "stderr",
     "output_type": "stream",
     "text": [
      "100%|██████████| 936/936 [00:30<00:00, 31.13it/s]\n"
     ]
    }
   ],
   "source": [
    "with Pool(20) as p:\n",
    "    for _ in tqdm(p.imap_unordered(load_wave, all_data_moved), total=len(all_data_moved)): pass"
   ]
  },
  {
   "cell_type": "code",
   "execution_count": 21,
   "metadata": {},
   "outputs": [],
   "source": [
    "spec = np.load(os.path.join(save_path, '9_892824118512419821_7b8fc704145cfc02a54d_0_0.npy'))"
   ]
  },
  {
   "cell_type": "code",
   "execution_count": 22,
   "metadata": {},
   "outputs": [
    {
     "data": {
      "text/plain": [
       "(80, 130)"
      ]
     },
     "execution_count": 22,
     "metadata": {},
     "output_type": "execute_result"
    }
   ],
   "source": [
    "spec.shape"
   ]
  },
  {
   "cell_type": "code",
   "execution_count": 23,
   "metadata": {},
   "outputs": [
    {
     "data": {
      "image/png": "[encoded data removed]",
      "text/plain": [
       "<matplotlib.figure.Figure at 0x7f1cf4ebe828>"
      ]
     },
     "metadata": {},
     "output_type": "display_data"
    }
   ],
   "source": [
    "plt.imshow(spec)\n",
    "plt.show()"
   ]
  },
  {
   "cell_type": "code",
   "execution_count": null,
   "metadata": {},
   "outputs": [],
   "source": []
  }
 ],
 "metadata": {
  "kernelspec": {
   "display_name": "Python 3",
   "language": "python",
   "name": "python3"
  },
  "language_info": {
   "codemirror_mode": {
    "name": "ipython",
    "version": 3
   },
   "file_extension": ".py",
   "mimetype": "text/x-python",
   "name": "python",
   "nbconvert_exporter": "python",
   "pygments_lexer": "ipython3",
   "version": "3.5.2"
  }
 },
 "nbformat": 4,
 "nbformat_minor": 2
}
