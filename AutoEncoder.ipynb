{
 "cells": [
  {
   "cell_type": "code",
   "execution_count": 1,
   "metadata": {},
   "outputs": [
    {
     "name": "stderr",
     "output_type": "stream",
     "text": [
      "/home/zdeploy/.virtualenvs/dl-py3/lib/python3.5/importlib/_bootstrap.py:222: RuntimeWarning: numpy.dtype size changed, may indicate binary incompatibility. Expected 96, got 88\n",
      "  return f(*args, **kwds)\n",
      "Using TensorFlow backend.\n",
      "/home/zdeploy/.virtualenvs/dl-py3/lib/python3.5/importlib/_bootstrap.py:222: RuntimeWarning: numpy.dtype size changed, may indicate binary incompatibility. Expected 96, got 88\n",
      "  return f(*args, **kwds)\n",
      "/home/zdeploy/.virtualenvs/dl-py3/lib/python3.5/importlib/_bootstrap.py:222: RuntimeWarning: numpy.dtype size changed, may indicate binary incompatibility. Expected 96, got 88\n",
      "  return f(*args, **kwds)\n",
      "/home/zdeploy/.virtualenvs/dl-py3/lib/python3.5/importlib/_bootstrap.py:222: RuntimeWarning: numpy.dtype size changed, may indicate binary incompatibility. Expected 96, got 88\n",
      "  return f(*args, **kwds)\n",
      "/home/zdeploy/.virtualenvs/dl-py3/lib/python3.5/importlib/_bootstrap.py:222: RuntimeWarning: numpy.dtype size changed, may indicate binary incompatibility. Expected 96, got 88\n",
      "  return f(*args, **kwds)\n",
      "/home/zdeploy/.virtualenvs/dl-py3/lib/python3.5/importlib/_bootstrap.py:222: RuntimeWarning: numpy.dtype size changed, may indicate binary incompatibility. Expected 96, got 88\n",
      "  return f(*args, **kwds)\n",
      "/home/zdeploy/.virtualenvs/dl-py3/lib/python3.5/importlib/_bootstrap.py:222: RuntimeWarning: numpy.dtype size changed, may indicate binary incompatibility. Expected 96, got 88\n",
      "  return f(*args, **kwds)\n"
     ]
    }
   ],
   "source": [
    "import os\n",
    "# disable running on GPU\n",
    "os.environ[\"CUDA_DEVICE_ORDER\"] = \"PCI_BUS_ID\"\n",
    "os.environ[\"CUDA_VISIBLE_DEVICES\"] = \"\"\n",
    "\n",
    "import numpy as np\n",
    "from keras.models import Sequential, Model\n",
    "from keras.layers import Dense, Activation, GlobalAveragePooling2D, Dropout, Input, Add, DepthwiseConv2D, Average, RepeatVector\n",
    "from keras.layers import AveragePooling2D, Conv2D, BatchNormalization, MaxPooling2D, Lambda, SeparableConv2D, GRU, LSTM\n",
    "from keras.preprocessing.image import ImageDataGenerator\n",
    "from keras.callbacks import LearningRateScheduler, ModelCheckpoint, TensorBoard\n",
    "from keras.losses import mse, binary_crossentropy\n",
    "from keras.optimizers import SGD, Adam\n",
    "from keras.utils import np_utils\n",
    "import keras.backend as K\n",
    "import h5py\n",
    "import pandas as pd\n",
    "import datetime\n",
    "import tensorflow as tf\n",
    "from keras.backend.tensorflow_backend import set_session\n",
    "import matplotlib.pyplot as plt\n",
    "\n",
    "from random import shuffle\n",
    "import random\n",
    "import pickle\n",
    "import seaborn as sn\n",
    "import pandas as pd\n",
    "import matplotlib.pyplot as plt\n",
    "import numpy as np\n",
    "from sklearn.metrics import confusion_matrix\n",
    "import h5py\n",
    "from IPython.display import clear_output\n",
    "\n",
    "from tqdm import tqdm\n",
    "\n",
    "from utils.datautils import *\n",
    "\n",
    "from EvalGeneratorLSTM import WaveDataGeneratorExtended as WaveDataGeneratorExtended_eval\n",
    "from TrainGeneratorLSTM import WaveDataGeneratorExtended as WaveDataGeneratorExtended_train"
   ]
  },
  {
   "cell_type": "code",
   "execution_count": 2,
   "metadata": {},
   "outputs": [],
   "source": [
    "config = tf.ConfigProto()\n",
    "config.gpu_options.per_process_gpu_memory_fraction = 1.0\n",
    "set_session(tf.Session(config=config))"
   ]
  },
  {
   "cell_type": "code",
   "execution_count": 3,
   "metadata": {},
   "outputs": [
    {
     "name": "stdout",
     "output_type": "stream",
     "text": [
      "[82, 44, 52, 51, 58, 63, 43, 53, 62, 70, 51, 51, 56, 51, 50, 53, 71, 74, 43, 61, 51, 57, 41, 47, 53, 63]\n",
      "[0, 2, 3, 4, 5, 7, 8, 9, 10, 13, 15, 16, 18, 21, 24, 26, 29, 31, 42, 44, 46, 47, 49, 50, 74, 85]\n",
      "((26,), 'min:', 41, 'max:', 82, 'std:', 9.953813458512466, 'mean:', 55.80769230769231, 'median:', 53.0)\n",
      "train sum: 1195\n"
     ]
    },
    {
     "data": {
      "image/png": "[encoded data removed]",
      "text/plain": [
       "<matplotlib.figure.Figure at 0x7efba7fe57f0>"
      ]
     },
     "metadata": {},
     "output_type": "display_data"
    },
    {
     "name": "stdout",
     "output_type": "stream",
     "text": [
      "[72, 35, 42, 41, 48, 53, 34, 43, 52, 60, 41, 41, 46, 41, 40, 43, 61, 64, 34, 51, 41, 47, 32, 37, 43, 53]\n",
      "[0, 2, 3, 4, 5, 7, 8, 9, 10, 13, 15, 16, 18, 21, 24, 26, 29, 31, 42, 44, 46, 47, 49, 50, 74, 85]\n",
      "((26,), 'min:', 32, 'max:', 72, 'std:', 9.756578724243804, 'mean:', 45.96153846153846, 'median:', 43.0)\n",
      "val sum: 256\n"
     ]
    },
    {
     "data": {
      "image/png": "[encoded data removed]",
      "text/plain": [
       "<matplotlib.figure.Figure at 0x7efba7ed7a58>"
      ]
     },
     "metadata": {},
     "output_type": "display_data"
    },
    {
     "name": "stdout",
     "output_type": "stream",
     "text": [
      "[10, 9, 10, 10, 10, 10, 9, 10, 10, 10, 10, 10, 10, 10, 10, 10, 10, 10, 9, 10, 10, 10, 9, 10, 10, 10]\n",
      "[0, 2, 3, 4, 5, 7, 8, 9, 10, 13, 15, 16, 18, 85, 24, 26, 29, 31, 42, 44, 46, 47, 49, 50, 74, 21]\n",
      "((26,), 'min:', 9, 'max:', 10, 'std:', 0.36080121229410994, 'mean:', 9.846153846153847, 'median:', 10.0)\n"
     ]
    }
   ],
   "source": [
    "numpy_train_x, numpy_train_y = get_wave_pair('/data1/ZAVoiceChallenge/duydv2/user_embed/user_embeding_cut_3s')\n",
    "train_x, train_y, val_x, val_y = split_data(numpy_train_x, numpy_train_y, alpha=0.8, maxx=10)\n",
    "train_x_up, train_y_up = train_x, train_y\n",
    "\n",
    "plt.figure(figsize=(20, 5))\n",
    "_,_,_ = statistic_data(train_x_up, train_y_up, title='train')\n",
    "plt.figure(figsize=(20, 5))\n",
    "_,_,_ = statistic_data(val_x, val_y, title='val')\n",
    "\n",
    "gen = WaveDataGeneratorExtended_train()"
   ]
  },
  {
   "cell_type": "code",
   "execution_count": 4,
   "metadata": {},
   "outputs": [],
   "source": [
    "input_shape = (130, 80)\n",
    "batch_size = 16"
   ]
  },
  {
   "cell_type": "code",
   "execution_count": 5,
   "metadata": {},
   "outputs": [],
   "source": [
    "def build_model(input_shape, latent_dim=3, buffer_dim=36):\n",
    "    time_step = input_shape[0]\n",
    "    vect_dim = input_shape[1]\n",
    "    \n",
    "    # encode module\n",
    "    x = Input(shape=input_shape)\n",
    "    h = GRU(buffer_dim)(x)\n",
    "    z_mean = Dense(latent_dim)(h)\n",
    "    z_std = Dense(latent_dim)(h)\n",
    "    \n",
    "    # sampling module\n",
    "    def re_sample(args):\n",
    "        z_mean, z_std = args\n",
    "        epsilon = K.random_normal_variable(shape=(batch_size, latent_dim), mean=0, scale=1)\n",
    "        return z_mean + K.exp(z_std)*epsilon\n",
    "    \n",
    "    z = Lambda(re_sample, output_shape=(latent_dim,))([z_mean, z_std])\n",
    "    \n",
    "    # decode module\n",
    "    decoder_h = Dense(buffer_dim)\n",
    "    decoder_mean = LSTM(vect_dim, return_sequences=True)\n",
    "    h_decoded = decoder_h(z)\n",
    "    h_decoded_repeat = RepeatVector(time_step)(h_decoded)\n",
    "    x_decoded = decoder_mean(h_decoded_repeat)\n",
    "    \n",
    "    # end-to-end autoencoder\n",
    "    vae = Model(x, x_decoded)\n",
    "    \n",
    "    # encoder, from inputs to latent space\n",
    "    encoder = Model(x, z_mean)\n",
    "    \n",
    "    # generator, from latent space to reconstructed inputs\n",
    "    decoder_input = Input(shape=(latent_dim,))\n",
    "    _h_decoded = decoder_h(decoder_input)\n",
    "    _h_decoded_repeat = RepeatVector(time_step)(_h_decoded)\n",
    "    _x_decoded = decoder_mean(_h_decoded_repeat)\n",
    "    generator = Model(decoder_input, _x_decoded)\n",
    "    \n",
    "    # loss function\n",
    "    reconstruction_loss = binary_crossentropy(x, x_decoded)\n",
    "    reconstruction_loss *= vect_dim*time_step\n",
    "    kl_loss = 1 + z_std - K.square(z_mean) - K.exp(z_mean)\n",
    "    kl_loss = K.sum(kl_loss, axis=-1)\n",
    "    kl_loss *= -0.5\n",
    "    vae_loss = K.mean(reconstruction_loss + kl_loss)\n",
    "    \n",
    "    # compile model\n",
    "    vae.add_loss(vae_loss)\n",
    "    vae.compile(optimizer='rmsprop')\n",
    "    \n",
    "    return vae, encoder, generator"
   ]
  },
  {
   "cell_type": "code",
   "execution_count": 6,
   "metadata": {},
   "outputs": [],
   "source": [
    "vae, encoder, generator = build_model(input_shape)"
   ]
  },
  {
   "cell_type": "code",
   "execution_count": 7,
   "metadata": {},
   "outputs": [
    {
     "name": "stdout",
     "output_type": "stream",
     "text": [
      "__________________________________________________________________________________________________\n",
      "Layer (type)                    Output Shape         Param #     Connected to                     \n",
      "==================================================================================================\n",
      "input_1 (InputLayer)            (None, 130, 80)      0                                            \n",
      "__________________________________________________________________________________________________\n",
      "gru_1 (GRU)                     (None, 36)           12636       input_1[0][0]                    \n",
      "__________________________________________________________________________________________________\n",
      "dense_1 (Dense)                 (None, 3)            111         gru_1[0][0]                      \n",
      "__________________________________________________________________________________________________\n",
      "dense_2 (Dense)                 (None, 3)            111         gru_1[0][0]                      \n",
      "__________________________________________________________________________________________________\n",
      "lambda_1 (Lambda)               (None, 3)            0           dense_1[0][0]                    \n",
      "                                                                 dense_2[0][0]                    \n",
      "__________________________________________________________________________________________________\n",
      "dense_3 (Dense)                 (None, 36)           144         lambda_1[0][0]                   \n",
      "__________________________________________________________________________________________________\n",
      "repeat_vector_1 (RepeatVector)  (None, 130, 36)      0           dense_3[0][0]                    \n",
      "__________________________________________________________________________________________________\n",
      "lstm_1 (LSTM)                   (None, 130, 80)      37440       repeat_vector_1[0][0]            \n",
      "==================================================================================================\n",
      "Total params: 50,442\n",
      "Trainable params: 50,442\n",
      "Non-trainable params: 0\n",
      "__________________________________________________________________________________________________\n"
     ]
    }
   ],
   "source": [
    "vae.summary()"
   ]
  },
  {
   "cell_type": "code",
   "execution_count": 8,
   "metadata": {},
   "outputs": [
    {
     "name": "stdout",
     "output_type": "stream",
     "text": [
      "_________________________________________________________________\n",
      "Layer (type)                 Output Shape              Param #   \n",
      "=================================================================\n",
      "input_1 (InputLayer)         (None, 130, 80)           0         \n",
      "_________________________________________________________________\n",
      "gru_1 (GRU)                  (None, 36)                12636     \n",
      "_________________________________________________________________\n",
      "dense_1 (Dense)              (None, 3)                 111       \n",
      "=================================================================\n",
      "Total params: 12,747\n",
      "Trainable params: 12,747\n",
      "Non-trainable params: 0\n",
      "_________________________________________________________________\n"
     ]
    }
   ],
   "source": [
    "encoder.summary()"
   ]
  },
  {
   "cell_type": "code",
   "execution_count": 9,
   "metadata": {},
   "outputs": [
    {
     "name": "stdout",
     "output_type": "stream",
     "text": [
      "_________________________________________________________________\n",
      "Layer (type)                 Output Shape              Param #   \n",
      "=================================================================\n",
      "input_2 (InputLayer)         (None, 3)                 0         \n",
      "_________________________________________________________________\n",
      "dense_3 (Dense)              (None, 36)                144       \n",
      "_________________________________________________________________\n",
      "repeat_vector_2 (RepeatVecto (None, 130, 36)           0         \n",
      "_________________________________________________________________\n",
      "lstm_1 (LSTM)                (None, 130, 80)           37440     \n",
      "=================================================================\n",
      "Total params: 37,584\n",
      "Trainable params: 37,584\n",
      "Non-trainable params: 0\n",
      "_________________________________________________________________\n"
     ]
    }
   ],
   "source": [
    "generator.summary()"
   ]
  },
  {
   "cell_type": "code",
   "execution_count": 10,
   "metadata": {},
   "outputs": [
    {
     "name": "stdout",
     "output_type": "stream",
     "text": [
      "Found 1451 images belonging to 26 classes.\n"
     ]
    }
   ],
   "source": [
    "aaaaa = gen.flow_from_json(numpy_train_x, numpy_train_y, batch_size=16, target_size=input_shape, color_mode='grayscale', class_mode=None)"
   ]
  },
  {
   "cell_type": "code",
   "execution_count": 11,
   "metadata": {},
   "outputs": [
    {
     "name": "stdout",
     "output_type": "stream",
     "text": [
      "(16, 130, 80, 1)\n"
     ]
    }
   ],
   "source": [
    "for a in aaaaa:\n",
    "    print(a.shape)\n",
    "    break;"
   ]
  },
  {
   "cell_type": "code",
   "execution_count": 12,
   "metadata": {},
   "outputs": [
    {
     "ename": "NameError",
     "evalue": "name 'model' is not defined",
     "output_type": "error",
     "traceback": [
      "\u001b[0;31m---------------------------------------------------------------------------\u001b[0m",
      "\u001b[0;31mNameError\u001b[0m                                 Traceback (most recent call last)",
      "\u001b[0;32m<ipython-input-12-124bd07e453e>\u001b[0m in \u001b[0;36m<module>\u001b[0;34m()\u001b[0m\n\u001b[0;32m----> 1\u001b[0;31m hist = model.fit_generator(gen.flow_from_json(numpy_train_x, numpy_train_y, batch_size=16, target_size=(314, 128), color_mode='grayscale'), \n\u001b[0m\u001b[1;32m      2\u001b[0m                            \u001b[0mepochs\u001b[0m\u001b[0;34m=\u001b[0m\u001b[0;36m1000\u001b[0m\u001b[0;34m,\u001b[0m\u001b[0;34m\u001b[0m\u001b[0m\n\u001b[1;32m      3\u001b[0m                            \u001b[0mverbose\u001b[0m\u001b[0;34m=\u001b[0m\u001b[0;36m1\u001b[0m\u001b[0;34m,\u001b[0m\u001b[0;34m\u001b[0m\u001b[0m\n\u001b[1;32m      4\u001b[0m                            \u001b[0mcallbacks\u001b[0m\u001b[0;34m=\u001b[0m\u001b[0mcallbacks_list\u001b[0m\u001b[0;34m,\u001b[0m\u001b[0;34m\u001b[0m\u001b[0m\n\u001b[1;32m      5\u001b[0m                            \u001b[0mvalidation_data\u001b[0m\u001b[0;34m=\u001b[0m\u001b[0mgen\u001b[0m\u001b[0;34m.\u001b[0m\u001b[0mflow_from_json\u001b[0m\u001b[0;34m(\u001b[0m\u001b[0mnumpy_val_x\u001b[0m\u001b[0;34m,\u001b[0m \u001b[0mnumpy_val_y\u001b[0m\u001b[0;34m,\u001b[0m \u001b[0mbatch_size\u001b[0m\u001b[0;34m=\u001b[0m\u001b[0;36m16\u001b[0m\u001b[0;34m,\u001b[0m \u001b[0mtarget_size\u001b[0m\u001b[0;34m=\u001b[0m\u001b[0;34m(\u001b[0m\u001b[0;36m314\u001b[0m\u001b[0;34m,\u001b[0m \u001b[0;36m128\u001b[0m\u001b[0;34m)\u001b[0m\u001b[0;34m,\u001b[0m \u001b[0mcolor_mode\u001b[0m\u001b[0;34m=\u001b[0m\u001b[0;34m'grayscale'\u001b[0m\u001b[0;34m)\u001b[0m\u001b[0;34m,\u001b[0m\u001b[0;34m\u001b[0m\u001b[0m\n",
      "\u001b[0;31mNameError\u001b[0m: name 'model' is not defined"
     ]
    }
   ],
   "source": [
    "hist = vae.fit_generator(gen.flow_from_json(train_x, train_y, batch_size=16, target_size=input_shape, color_mode='grayscale', class_mode=None), \n",
    "                           epochs=10, \n",
    "                           verbose=1, \n",
    "                           callbacks=callbacks_list, \n",
    "                           validation_data=gen.flow_from_json(val_x, val_y, batch_size=16, target_size=(314, 128), color_mode='grayscale'),\n",
    "                           workers=20, \n",
    "                           use_multiprocessing=True, \n",
    "                           shuffle=True,\n",
    "                           max_queue_size=20)"
   ]
  },
  {
   "cell_type": "code",
   "execution_count": null,
   "metadata": {},
   "outputs": [],
   "source": []
  },
  {
   "cell_type": "code",
   "execution_count": null,
   "metadata": {},
   "outputs": [],
   "source": []
  }
 ],
 "metadata": {
  "kernelspec": {
   "display_name": "Python 3",
   "language": "python",
   "name": "python3"
  },
  "language_info": {
   "codemirror_mode": {
    "name": "ipython",
    "version": 3
   },
   "file_extension": ".py",
   "mimetype": "text/x-python",
   "name": "python",
   "nbconvert_exporter": "python",
   "pygments_lexer": "ipython3",
   "version": "3.5.2"
  }
 },
 "nbformat": 4,
 "nbformat_minor": 2
}
